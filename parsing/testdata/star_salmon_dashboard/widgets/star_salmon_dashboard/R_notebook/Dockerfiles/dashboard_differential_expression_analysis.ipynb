{
 "cells": [
  {
   "cell_type": "markdown",
   "metadata": {},
   "source": [
    "# Differential Expression Analysis between two groups of samples\n",
    "\n",
    "Counts taken from Salmon output for two groups of samples, specified groupings from the dashboard's JSON file."
   ]
  },
  {
   "cell_type": "markdown",
   "metadata": {},
   "source": [
    "## Load libraries"
   ]
  },
  {
   "cell_type": "code",
   "execution_count": 1,
   "metadata": {
    "scrolled": true,
    "vscode": {
     "languageId": "r"
    }
   },
   "outputs": [],
   "source": [
    "# # Install necessary packages\n",
    "# if (!requireNamespace(\"BiocManager\", quietly = TRUE)) {\n",
    "#     install.packages(\"BiocManager\")\n",
    "# }\n",
    "# BiocManager::install(c(\"DESeq2\", \"locfit\", \"gplots\", \"pheatmap\", \"SRAdb\", \"biomaRt\", \"EnhancedVolcano\"))\n",
    "\n",
    "# install.packages(c(\"tidyverse\", \"readxl\", \"tibble\"))\n"
   ]
  },
  {
   "cell_type": "code",
   "execution_count": 2,
   "metadata": {},
   "outputs": [
    {
     "data": {
      "text/plain": [
       "[1] ‘3.20’"
      ]
     },
     "metadata": {},
     "output_type": "display_data"
    }
   ],
   "source": [
    "BiocManager::version()"
   ]
  },
  {
   "cell_type": "code",
   "execution_count": 3,
   "metadata": {
    "scrolled": true,
    "vscode": {
     "languageId": "r"
    }
   },
   "outputs": [
    {
     "name": "stderr",
     "output_type": "stream",
     "text": [
      "── \u001b[1mAttaching core tidyverse packages\u001b[22m ──────────────────────── tidyverse 2.0.0 ──\n",
      "\u001b[32m✔\u001b[39m \u001b[34mdplyr    \u001b[39m 1.1.4     \u001b[32m✔\u001b[39m \u001b[34mreadr    \u001b[39m 2.1.5\n",
      "\u001b[32m✔\u001b[39m \u001b[34mforcats  \u001b[39m 1.0.0     \u001b[32m✔\u001b[39m \u001b[34mstringr  \u001b[39m 1.5.1\n",
      "\u001b[32m✔\u001b[39m \u001b[34mggplot2  \u001b[39m 3.5.2     \u001b[32m✔\u001b[39m \u001b[34mtibble   \u001b[39m 3.3.0\n",
      "\u001b[32m✔\u001b[39m \u001b[34mlubridate\u001b[39m 1.9.4     \u001b[32m✔\u001b[39m \u001b[34mtidyr    \u001b[39m 1.3.1\n",
      "\u001b[32m✔\u001b[39m \u001b[34mpurrr    \u001b[39m 1.0.4     \n",
      "── \u001b[1mConflicts\u001b[22m ────────────────────────────────────────── tidyverse_conflicts() ──\n",
      "\u001b[31m✖\u001b[39m \u001b[34mdplyr\u001b[39m::\u001b[32mfilter()\u001b[39m masks \u001b[34mstats\u001b[39m::filter()\n",
      "\u001b[31m✖\u001b[39m \u001b[34mdplyr\u001b[39m::\u001b[32mlag()\u001b[39m    masks \u001b[34mstats\u001b[39m::lag()\n",
      "\u001b[36mℹ\u001b[39m Use the conflicted package (\u001b[3m\u001b[34m<http://conflicted.r-lib.org/>\u001b[39m\u001b[23m) to force all conflicts to become errors\n",
      "Loading required package: S4Vectors\n",
      "\n",
      "Loading required package: stats4\n",
      "\n",
      "Loading required package: BiocGenerics\n",
      "\n",
      "\n",
      "Attaching package: ‘BiocGenerics’\n",
      "\n",
      "\n",
      "The following objects are masked from ‘package:lubridate’:\n",
      "\n",
      "    intersect, setdiff, union\n",
      "\n",
      "\n",
      "The following objects are masked from ‘package:dplyr’:\n",
      "\n",
      "    combine, intersect, setdiff, union\n",
      "\n",
      "\n",
      "The following objects are masked from ‘package:stats’:\n",
      "\n",
      "    IQR, mad, sd, var, xtabs\n",
      "\n",
      "\n",
      "The following objects are masked from ‘package:base’:\n",
      "\n",
      "    Filter, Find, Map, Position, Reduce, anyDuplicated, aperm, append,\n",
      "    as.data.frame, basename, cbind, colnames, dirname, do.call,\n",
      "    duplicated, eval, evalq, get, grep, grepl, intersect, is.unsorted,\n",
      "    lapply, mapply, match, mget, order, paste, pmax, pmax.int, pmin,\n",
      "    pmin.int, rank, rbind, rownames, sapply, saveRDS, setdiff, table,\n",
      "    tapply, union, unique, unsplit, which.max, which.min\n",
      "\n",
      "\n",
      "\n",
      "Attaching package: ‘S4Vectors’\n",
      "\n",
      "\n",
      "The following objects are masked from ‘package:lubridate’:\n",
      "\n",
      "    second, second<-\n",
      "\n",
      "\n",
      "The following objects are masked from ‘package:dplyr’:\n",
      "\n",
      "    first, rename\n",
      "\n",
      "\n",
      "The following object is masked from ‘package:tidyr’:\n",
      "\n",
      "    expand\n",
      "\n",
      "\n",
      "The following object is masked from ‘package:utils’:\n",
      "\n",
      "    findMatches\n",
      "\n",
      "\n",
      "The following objects are masked from ‘package:base’:\n",
      "\n",
      "    I, expand.grid, unname\n",
      "\n",
      "\n",
      "Loading required package: IRanges\n",
      "\n",
      "\n",
      "Attaching package: ‘IRanges’\n",
      "\n",
      "\n",
      "The following object is masked from ‘package:lubridate’:\n",
      "\n",
      "    %within%\n",
      "\n",
      "\n",
      "The following objects are masked from ‘package:dplyr’:\n",
      "\n",
      "    collapse, desc, slice\n",
      "\n",
      "\n",
      "The following object is masked from ‘package:purrr’:\n",
      "\n",
      "    reduce\n",
      "\n",
      "\n",
      "Loading required package: GenomicRanges\n",
      "\n",
      "Loading required package: GenomeInfoDb\n",
      "\n",
      "Loading required package: SummarizedExperiment\n",
      "\n",
      "Loading required package: MatrixGenerics\n",
      "\n",
      "Loading required package: matrixStats\n",
      "\n",
      "\n",
      "Attaching package: ‘matrixStats’\n",
      "\n",
      "\n",
      "The following object is masked from ‘package:dplyr’:\n",
      "\n",
      "    count\n",
      "\n",
      "\n",
      "\n",
      "Attaching package: ‘MatrixGenerics’\n",
      "\n",
      "\n",
      "The following objects are masked from ‘package:matrixStats’:\n",
      "\n",
      "    colAlls, colAnyNAs, colAnys, colAvgsPerRowSet, colCollapse,\n",
      "    colCounts, colCummaxs, colCummins, colCumprods, colCumsums,\n",
      "    colDiffs, colIQRDiffs, colIQRs, colLogSumExps, colMadDiffs,\n",
      "    colMads, colMaxs, colMeans2, colMedians, colMins, colOrderStats,\n",
      "    colProds, colQuantiles, colRanges, colRanks, colSdDiffs, colSds,\n",
      "    colSums2, colTabulates, colVarDiffs, colVars, colWeightedMads,\n",
      "    colWeightedMeans, colWeightedMedians, colWeightedSds,\n",
      "    colWeightedVars, rowAlls, rowAnyNAs, rowAnys, rowAvgsPerColSet,\n",
      "    rowCollapse, rowCounts, rowCummaxs, rowCummins, rowCumprods,\n",
      "    rowCumsums, rowDiffs, rowIQRDiffs, rowIQRs, rowLogSumExps,\n",
      "    rowMadDiffs, rowMads, rowMaxs, rowMeans2, rowMedians, rowMins,\n",
      "    rowOrderStats, rowProds, rowQuantiles, rowRanges, rowRanks,\n",
      "    rowSdDiffs, rowSds, rowSums2, rowTabulates, rowVarDiffs, rowVars,\n",
      "    rowWeightedMads, rowWeightedMeans, rowWeightedMedians,\n",
      "    rowWeightedSds, rowWeightedVars\n",
      "\n",
      "\n",
      "Loading required package: Biobase\n",
      "\n",
      "Welcome to Bioconductor\n",
      "\n",
      "    Vignettes contain introductory material; view with\n",
      "    'browseVignettes()'. To cite Bioconductor, see\n",
      "    'citation(\"Biobase\")', and for packages 'citation(\"pkgname\")'.\n",
      "\n",
      "\n",
      "\n",
      "Attaching package: ‘Biobase’\n",
      "\n",
      "\n",
      "The following object is masked from ‘package:MatrixGenerics’:\n",
      "\n",
      "    rowMedians\n",
      "\n",
      "\n",
      "The following objects are masked from ‘package:matrixStats’:\n",
      "\n",
      "    anyMissing, rowMedians\n",
      "\n",
      "\n",
      "locfit 1.5-9.12 \t 2025-03-05\n",
      "\n",
      "\n",
      "Attaching package: ‘locfit’\n",
      "\n",
      "\n",
      "The following object is masked from ‘package:purrr’:\n",
      "\n",
      "    none\n",
      "\n",
      "\n",
      "\n",
      "Attaching package: ‘gplots’\n",
      "\n",
      "\n",
      "The following object is masked from ‘package:IRanges’:\n",
      "\n",
      "    space\n",
      "\n",
      "\n",
      "The following object is masked from ‘package:S4Vectors’:\n",
      "\n",
      "    space\n",
      "\n",
      "\n",
      "The following object is masked from ‘package:stats’:\n",
      "\n",
      "    lowess\n",
      "\n",
      "\n",
      "Loading required package: RSQLite\n",
      "\n",
      "Loading required package: graph\n",
      "\n",
      "\n",
      "Attaching package: ‘graph’\n",
      "\n",
      "\n",
      "The following object is masked from ‘package:stringr’:\n",
      "\n",
      "    boundary\n",
      "\n",
      "\n",
      "Loading required package: RCurl\n",
      "\n",
      "\n",
      "Attaching package: ‘RCurl’\n",
      "\n",
      "\n",
      "The following object is masked from ‘package:tidyr’:\n",
      "\n",
      "    complete\n",
      "\n",
      "\n",
      "\n",
      "Attaching package: ‘jsonlite’\n",
      "\n",
      "\n",
      "The following object is masked from ‘package:purrr’:\n",
      "\n",
      "    flatten\n",
      "\n",
      "\n",
      "Loading required package: ggrepel\n",
      "\n"
     ]
    }
   ],
   "source": [
    "# Load libraries\n",
    "library(tidyverse)\n",
    "library(DESeq2)\n",
    "library(readxl)\n",
    "library(tibble)\n",
    "library(locfit)\n",
    "library(gplots)\n",
    "library(SRAdb)\n",
    "library(jsonlite)\n",
    "library(biomaRt)\n",
    "library(EnhancedVolcano)"
   ]
  },
  {
   "cell_type": "markdown",
   "metadata": {},
   "source": [
    "## Read in data\n",
    "\n",
    "**dashboard_metadata**: JSON file with grouping information for samples, as well as their SRA IDs (SRR___) and layout (Single/Paired end). Layout is ignoroed for the analysis.\n",
    "\n",
    "**gene_counts**: From Salmon output genesCounts.csv (unnormalized integer genomic counts)."
   ]
  },
  {
   "cell_type": "code",
   "execution_count": 4,
   "metadata": {
    "vscode": {
     "languageId": "r"
    }
   },
   "outputs": [
    {
     "data": {
      "text/html": [
       "<table class=\"dataframe\">\n",
       "<caption>A tibble: 6 × 2</caption>\n",
       "<thead>\n",
       "\t<tr><th scope=col>name</th><th scope=col>srr_id</th></tr>\n",
       "\t<tr><th scope=col>&lt;chr&gt;</th><th scope=col>&lt;chr&gt;</th></tr>\n",
       "</thead>\n",
       "<tbody>\n",
       "\t<tr><td>Control   </td><td>SRR10544951</td></tr>\n",
       "\t<tr><td>Control   </td><td>SRR10544956</td></tr>\n",
       "\t<tr><td>Control   </td><td>SRR10544953</td></tr>\n",
       "\t<tr><td>Experiment</td><td>SRR10544952</td></tr>\n",
       "\t<tr><td>Experiment</td><td>SRR10544957</td></tr>\n",
       "\t<tr><td>Experiment</td><td>SRR10544954</td></tr>\n",
       "</tbody>\n",
       "</table>\n"
      ],
      "text/latex": [
       "A tibble: 6 × 2\n",
       "\\begin{tabular}{ll}\n",
       " name & srr\\_id\\\\\n",
       " <chr> & <chr>\\\\\n",
       "\\hline\n",
       "\t Control    & SRR10544951\\\\\n",
       "\t Control    & SRR10544956\\\\\n",
       "\t Control    & SRR10544953\\\\\n",
       "\t Experiment & SRR10544952\\\\\n",
       "\t Experiment & SRR10544957\\\\\n",
       "\t Experiment & SRR10544954\\\\\n",
       "\\end{tabular}\n"
      ],
      "text/markdown": [
       "\n",
       "A tibble: 6 × 2\n",
       "\n",
       "| name &lt;chr&gt; | srr_id &lt;chr&gt; |\n",
       "|---|---|\n",
       "| Control    | SRR10544951 |\n",
       "| Control    | SRR10544956 |\n",
       "| Control    | SRR10544953 |\n",
       "| Experiment | SRR10544952 |\n",
       "| Experiment | SRR10544957 |\n",
       "| Experiment | SRR10544954 |\n",
       "\n"
      ],
      "text/plain": [
       "  name       srr_id     \n",
       "1 Control    SRR10544951\n",
       "2 Control    SRR10544956\n",
       "3 Control    SRR10544953\n",
       "4 Experiment SRR10544952\n",
       "5 Experiment SRR10544957\n",
       "6 Experiment SRR10544954"
      ]
     },
     "metadata": {},
     "output_type": "display_data"
    }
   ],
   "source": [
    "# Read in dashboard metadata groupings json (nested list, extract $groups first)\n",
    "metadata_json <- Sys.getenv(\"metadata_json\")\n",
    "dashboard_metadata <- fromJSON(metadata_json)$groups\n",
    "\n",
    "# First column: name, second column: samples (nested list containing \"srr_id\" and \"layout\")\n",
    "# Separate srr_id and layout into separate columns\n",
    "dashboard_metadata <- dashboard_metadata %>%\n",
    "    mutate(samples = map(samples, ~ tibble(srr_id = .x$srr_id, layout = .x$layout))) %>%\n",
    "    unnest(samples) %>%\n",
    "    # Remove \"layout\" column, not needed for analysis\n",
    "    dplyr::select(-layout)\n",
    "\n",
    "dashboard_metadata"
   ]
  },
  {
   "cell_type": "code",
   "execution_count": 5,
   "metadata": {
    "vscode": {
     "languageId": "r"
    }
   },
   "outputs": [
    {
     "name": "stderr",
     "output_type": "stream",
     "text": [
      "\u001b[1mRows: \u001b[22m\u001b[34m38592\u001b[39m \u001b[1mColumns: \u001b[22m\u001b[34m7\u001b[39m\n",
      "\u001b[36m──\u001b[39m \u001b[1mColumn specification\u001b[22m \u001b[36m────────────────────────────────────────────────────────\u001b[39m\n",
      "\u001b[1mDelimiter:\u001b[22m \"\\t\"\n",
      "\u001b[31mchr\u001b[39m (1): Name\n",
      "\u001b[32mdbl\u001b[39m (6): SRR10544956_1_val, SRR10544952_1_val, SRR10544951_1_val, SRR1054495...\n",
      "\n",
      "\u001b[36mℹ\u001b[39m Use `spec()` to retrieve the full column specification for this data.\n",
      "\u001b[36mℹ\u001b[39m Specify the column types or set `show_col_types = FALSE` to quiet this message.\n"
     ]
    },
    {
     "data": {
      "text/html": [
       "<table class=\"dataframe\">\n",
       "<caption>A data.frame: 6 × 6</caption>\n",
       "<thead>\n",
       "\t<tr><th></th><th scope=col>SRR10544956_1_val</th><th scope=col>SRR10544952_1_val</th><th scope=col>SRR10544951_1_val</th><th scope=col>SRR10544953_1_val</th><th scope=col>SRR10544954_1_val</th><th scope=col>SRR10544957_1_val</th></tr>\n",
       "\t<tr><th></th><th scope=col>&lt;dbl&gt;</th><th scope=col>&lt;dbl&gt;</th><th scope=col>&lt;dbl&gt;</th><th scope=col>&lt;dbl&gt;</th><th scope=col>&lt;dbl&gt;</th><th scope=col>&lt;dbl&gt;</th></tr>\n",
       "</thead>\n",
       "<tbody>\n",
       "\t<tr><th scope=row>ENSG00000268674</th><td>   0</td><td>  0</td><td>   0</td><td>   0</td><td>   0</td><td>   0</td></tr>\n",
       "\t<tr><th scope=row>ENSG00000271254</th><td>1391</td><td>672</td><td>1534</td><td>1081</td><td>1291</td><td>1024</td></tr>\n",
       "\t<tr><th scope=row>ENSG00000275063</th><td>   0</td><td>  0</td><td>   0</td><td>   0</td><td>   0</td><td>   0</td></tr>\n",
       "\t<tr><th scope=row>ENSG00000277856</th><td>   0</td><td>  0</td><td>   0</td><td>   0</td><td>   0</td><td>   0</td></tr>\n",
       "\t<tr><th scope=row>ENSG00000276345</th><td> 747</td><td>  0</td><td> 379</td><td> 468</td><td>   0</td><td> 448</td></tr>\n",
       "\t<tr><th scope=row>ENSG00000278633</th><td>   0</td><td>  0</td><td>   0</td><td>   0</td><td>   0</td><td>   0</td></tr>\n",
       "</tbody>\n",
       "</table>\n"
      ],
      "text/latex": [
       "A data.frame: 6 × 6\n",
       "\\begin{tabular}{r|llllll}\n",
       "  & SRR10544956\\_1\\_val & SRR10544952\\_1\\_val & SRR10544951\\_1\\_val & SRR10544953\\_1\\_val & SRR10544954\\_1\\_val & SRR10544957\\_1\\_val\\\\\n",
       "  & <dbl> & <dbl> & <dbl> & <dbl> & <dbl> & <dbl>\\\\\n",
       "\\hline\n",
       "\tENSG00000268674 &    0 &   0 &    0 &    0 &    0 &    0\\\\\n",
       "\tENSG00000271254 & 1391 & 672 & 1534 & 1081 & 1291 & 1024\\\\\n",
       "\tENSG00000275063 &    0 &   0 &    0 &    0 &    0 &    0\\\\\n",
       "\tENSG00000277856 &    0 &   0 &    0 &    0 &    0 &    0\\\\\n",
       "\tENSG00000276345 &  747 &   0 &  379 &  468 &    0 &  448\\\\\n",
       "\tENSG00000278633 &    0 &   0 &    0 &    0 &    0 &    0\\\\\n",
       "\\end{tabular}\n"
      ],
      "text/markdown": [
       "\n",
       "A data.frame: 6 × 6\n",
       "\n",
       "| <!--/--> | SRR10544956_1_val &lt;dbl&gt; | SRR10544952_1_val &lt;dbl&gt; | SRR10544951_1_val &lt;dbl&gt; | SRR10544953_1_val &lt;dbl&gt; | SRR10544954_1_val &lt;dbl&gt; | SRR10544957_1_val &lt;dbl&gt; |\n",
       "|---|---|---|---|---|---|---|\n",
       "| ENSG00000268674 |    0 |   0 |    0 |    0 |    0 |    0 |\n",
       "| ENSG00000271254 | 1391 | 672 | 1534 | 1081 | 1291 | 1024 |\n",
       "| ENSG00000275063 |    0 |   0 |    0 |    0 |    0 |    0 |\n",
       "| ENSG00000277856 |    0 |   0 |    0 |    0 |    0 |    0 |\n",
       "| ENSG00000276345 |  747 |   0 |  379 |  468 |    0 |  448 |\n",
       "| ENSG00000278633 |    0 |   0 |    0 |    0 |    0 |    0 |\n",
       "\n"
      ],
      "text/plain": [
       "                SRR10544956_1_val SRR10544952_1_val SRR10544951_1_val\n",
       "ENSG00000268674    0                0                  0             \n",
       "ENSG00000271254 1391              672               1534             \n",
       "ENSG00000275063    0                0                  0             \n",
       "ENSG00000277856    0                0                  0             \n",
       "ENSG00000276345  747                0                379             \n",
       "ENSG00000278633    0                0                  0             \n",
       "                SRR10544953_1_val SRR10544954_1_val SRR10544957_1_val\n",
       "ENSG00000268674    0                 0                 0             \n",
       "ENSG00000271254 1081              1291              1024             \n",
       "ENSG00000275063    0                 0                 0             \n",
       "ENSG00000277856    0                 0                 0             \n",
       "ENSG00000276345  468                 0               448             \n",
       "ENSG00000278633    0                 0                 0             "
      ]
     },
     "metadata": {},
     "output_type": "display_data"
    },
    {
     "data": {
      "text/html": [
       "<table class=\"dataframe\">\n",
       "<caption>A data.frame: 6 × 6</caption>\n",
       "<thead>\n",
       "\t<tr><th></th><th scope=col>SRR10544956</th><th scope=col>SRR10544952</th><th scope=col>SRR10544951</th><th scope=col>SRR10544953</th><th scope=col>SRR10544954</th><th scope=col>SRR10544957</th></tr>\n",
       "\t<tr><th></th><th scope=col>&lt;dbl&gt;</th><th scope=col>&lt;dbl&gt;</th><th scope=col>&lt;dbl&gt;</th><th scope=col>&lt;dbl&gt;</th><th scope=col>&lt;dbl&gt;</th><th scope=col>&lt;dbl&gt;</th></tr>\n",
       "</thead>\n",
       "<tbody>\n",
       "\t<tr><th scope=row>ENSG00000268674</th><td>   0</td><td>  0</td><td>   0</td><td>   0</td><td>   0</td><td>   0</td></tr>\n",
       "\t<tr><th scope=row>ENSG00000271254</th><td>1391</td><td>672</td><td>1534</td><td>1081</td><td>1291</td><td>1024</td></tr>\n",
       "\t<tr><th scope=row>ENSG00000275063</th><td>   0</td><td>  0</td><td>   0</td><td>   0</td><td>   0</td><td>   0</td></tr>\n",
       "\t<tr><th scope=row>ENSG00000277856</th><td>   0</td><td>  0</td><td>   0</td><td>   0</td><td>   0</td><td>   0</td></tr>\n",
       "\t<tr><th scope=row>ENSG00000276345</th><td> 747</td><td>  0</td><td> 379</td><td> 468</td><td>   0</td><td> 448</td></tr>\n",
       "\t<tr><th scope=row>ENSG00000278633</th><td>   0</td><td>  0</td><td>   0</td><td>   0</td><td>   0</td><td>   0</td></tr>\n",
       "</tbody>\n",
       "</table>\n"
      ],
      "text/latex": [
       "A data.frame: 6 × 6\n",
       "\\begin{tabular}{r|llllll}\n",
       "  & SRR10544956 & SRR10544952 & SRR10544951 & SRR10544953 & SRR10544954 & SRR10544957\\\\\n",
       "  & <dbl> & <dbl> & <dbl> & <dbl> & <dbl> & <dbl>\\\\\n",
       "\\hline\n",
       "\tENSG00000268674 &    0 &   0 &    0 &    0 &    0 &    0\\\\\n",
       "\tENSG00000271254 & 1391 & 672 & 1534 & 1081 & 1291 & 1024\\\\\n",
       "\tENSG00000275063 &    0 &   0 &    0 &    0 &    0 &    0\\\\\n",
       "\tENSG00000277856 &    0 &   0 &    0 &    0 &    0 &    0\\\\\n",
       "\tENSG00000276345 &  747 &   0 &  379 &  468 &    0 &  448\\\\\n",
       "\tENSG00000278633 &    0 &   0 &    0 &    0 &    0 &    0\\\\\n",
       "\\end{tabular}\n"
      ],
      "text/markdown": [
       "\n",
       "A data.frame: 6 × 6\n",
       "\n",
       "| <!--/--> | SRR10544956 &lt;dbl&gt; | SRR10544952 &lt;dbl&gt; | SRR10544951 &lt;dbl&gt; | SRR10544953 &lt;dbl&gt; | SRR10544954 &lt;dbl&gt; | SRR10544957 &lt;dbl&gt; |\n",
       "|---|---|---|---|---|---|---|\n",
       "| ENSG00000268674 |    0 |   0 |    0 |    0 |    0 |    0 |\n",
       "| ENSG00000271254 | 1391 | 672 | 1534 | 1081 | 1291 | 1024 |\n",
       "| ENSG00000275063 |    0 |   0 |    0 |    0 |    0 |    0 |\n",
       "| ENSG00000277856 |    0 |   0 |    0 |    0 |    0 |    0 |\n",
       "| ENSG00000276345 |  747 |   0 |  379 |  468 |    0 |  448 |\n",
       "| ENSG00000278633 |    0 |   0 |    0 |    0 |    0 |    0 |\n",
       "\n"
      ],
      "text/plain": [
       "                SRR10544956 SRR10544952 SRR10544951 SRR10544953 SRR10544954\n",
       "ENSG00000268674    0          0            0           0           0       \n",
       "ENSG00000271254 1391        672         1534        1081        1291       \n",
       "ENSG00000275063    0          0            0           0           0       \n",
       "ENSG00000277856    0          0            0           0           0       \n",
       "ENSG00000276345  747          0          379         468           0       \n",
       "ENSG00000278633    0          0            0           0           0       \n",
       "                SRR10544957\n",
       "ENSG00000268674    0       \n",
       "ENSG00000271254 1024       \n",
       "ENSG00000275063    0       \n",
       "ENSG00000277856    0       \n",
       "ENSG00000276345  448       \n",
       "ENSG00000278633    0       "
      ]
     },
     "metadata": {},
     "output_type": "display_data"
    }
   ],
   "source": [
    "# Read in genesCounts.csv (set first column (gene names 'Name') as row names)\n",
    "counts_dir <- Sys.getenv(\"counts_dir\")\n",
    "counts_file <- paste0(counts_dir, \"/genesCounts.csv\")\n",
    "genes_counts <- read_delim(counts_file,delim = \"\\t\", col_names = TRUE) %>%\n",
    "    column_to_rownames(var = \"Name\")\n",
    "\n",
    "head(genes_counts)\n",
    "\n",
    "# Column names of genes_counts should match srr_id in dashboard_metadata,\n",
    "# gene_counts names may have something appended to them, so we need to match\n",
    "# the srr_id to the column names of genes_counts\n",
    "# (excluding first column's gene `Name`), and remove any appended text\n",
    "# (e.g. \".1\", \".2\", \"_trimmed\", etc.)\n",
    "genes_counts <- genes_counts %>%\n",
    "    # rename_with(~ str_remove(., \"\\\\..*|_trimmed$\"), -`Name`) %>%\n",
    "    # rename_with(~ str_remove(., \"_R1$|_R2$\"), -`Name`)\n",
    "    rename_with(~ str_remove(., \"\\\\..*|_trimmed$\")) %>%\n",
    "    rename_with(~ str_remove(., \"_1_val$\"))\n",
    "\n",
    "head(genes_counts)"
   ]
  },
  {
   "cell_type": "code",
   "execution_count": 6,
   "metadata": {
    "vscode": {
     "languageId": "r"
    }
   },
   "outputs": [
    {
     "name": "stdout",
     "output_type": "stream",
     "text": [
      "[1] \"SRR IDs not included in genes_counts:\"\n",
      "character(0)\n"
     ]
    }
   ],
   "source": [
    "# Omit any samples in dashboard_metadata that are not in genes_counts\n",
    "dashboard_metadata <- dashboard_metadata %>%\n",
    "    filter(srr_id %in% colnames(genes_counts))\n",
    "\n",
    "print(\"SRR IDs not included in genes_counts:\")\n",
    "print(setdiff(dashboard_metadata$srr_id, colnames(genes_counts)))"
   ]
  },
  {
   "cell_type": "markdown",
   "metadata": {},
   "source": [
    "## DESeq2 preparation and execution"
   ]
  },
  {
   "cell_type": "code",
   "execution_count": 7,
   "metadata": {
    "vscode": {
     "languageId": "r"
    }
   },
   "outputs": [
    {
     "data": {
      "text/html": [
       "<table class=\"dataframe\">\n",
       "<caption>A data.frame: 6 × 1</caption>\n",
       "<thead>\n",
       "\t<tr><th></th><th scope=col>condition</th></tr>\n",
       "\t<tr><th></th><th scope=col>&lt;fct&gt;</th></tr>\n",
       "</thead>\n",
       "<tbody>\n",
       "\t<tr><th scope=row>SRR10544951</th><td>Control   </td></tr>\n",
       "\t<tr><th scope=row>SRR10544956</th><td>Control   </td></tr>\n",
       "\t<tr><th scope=row>SRR10544953</th><td>Control   </td></tr>\n",
       "\t<tr><th scope=row>SRR10544952</th><td>Experiment</td></tr>\n",
       "\t<tr><th scope=row>SRR10544957</th><td>Experiment</td></tr>\n",
       "\t<tr><th scope=row>SRR10544954</th><td>Experiment</td></tr>\n",
       "</tbody>\n",
       "</table>\n"
      ],
      "text/latex": [
       "A data.frame: 6 × 1\n",
       "\\begin{tabular}{r|l}\n",
       "  & condition\\\\\n",
       "  & <fct>\\\\\n",
       "\\hline\n",
       "\tSRR10544951 & Control   \\\\\n",
       "\tSRR10544956 & Control   \\\\\n",
       "\tSRR10544953 & Control   \\\\\n",
       "\tSRR10544952 & Experiment\\\\\n",
       "\tSRR10544957 & Experiment\\\\\n",
       "\tSRR10544954 & Experiment\\\\\n",
       "\\end{tabular}\n"
      ],
      "text/markdown": [
       "\n",
       "A data.frame: 6 × 1\n",
       "\n",
       "| <!--/--> | condition &lt;fct&gt; |\n",
       "|---|---|\n",
       "| SRR10544951 | Control    |\n",
       "| SRR10544956 | Control    |\n",
       "| SRR10544953 | Control    |\n",
       "| SRR10544952 | Experiment |\n",
       "| SRR10544957 | Experiment |\n",
       "| SRR10544954 | Experiment |\n",
       "\n"
      ],
      "text/plain": [
       "            condition \n",
       "SRR10544951 Control   \n",
       "SRR10544956 Control   \n",
       "SRR10544953 Control   \n",
       "SRR10544952 Experiment\n",
       "SRR10544957 Experiment\n",
       "SRR10544954 Experiment"
      ]
     },
     "metadata": {},
     "output_type": "display_data"
    }
   ],
   "source": [
    "### Format dashboard_metadata for DESeq2\n",
    "# Create a DESeq2 compatible metadata dataframe\n",
    "# (srr_id as row names, condition as factor)\n",
    "metadata_df <- dashboard_metadata %>%\n",
    "    dplyr::select(srr_id, name) %>%\n",
    "    mutate(condition = as.factor(name)) %>%\n",
    "    column_to_rownames(var = \"srr_id\") %>%\n",
    "    dplyr::select(-name)\n",
    "\n",
    "metadata_df"
   ]
  },
  {
   "cell_type": "code",
   "execution_count": 8,
   "metadata": {
    "vscode": {
     "languageId": "r"
    }
   },
   "outputs": [
    {
     "name": "stdout",
     "output_type": "stream",
     "text": [
      "[1] \"Mismatch ordering between srr_ids in metadata_df and column names in genes_counts.\"\n",
      "[1] \"Matching srr_ids to genes_counts column names...\"\n"
     ]
    }
   ],
   "source": [
    "# Final checks: ensure all srr_ids in metadata_df are in genes_counts\n",
    "if (!all(rownames(metadata_df) %in% colnames(genes_counts))) {\n",
    "    stop(\"Some srr_ids in metadata_df are not in genes_counts.\")\n",
    "}\n",
    "\n",
    "# Ensure the ordering of srr_ids in metadata_df matches column names in genes_counts\n",
    "if (all(rownames(metadata_df) == colnames(genes_counts))) {\n",
    "    print(\"All srr_ids in metadata_df match column names in genes_counts.\")\n",
    "} else {\n",
    "    print(\"Mismatch ordering between srr_ids in metadata_df and column names in genes_counts.\")\n",
    "    print(\"Matching srr_ids to genes_counts column names...\")\n",
    "    genes_counts <- genes_counts[, rownames(metadata_df)]\n",
    "}"
   ]
  },
  {
   "cell_type": "code",
   "execution_count": 9,
   "metadata": {
    "vscode": {
     "languageId": "r"
    }
   },
   "outputs": [
    {
     "name": "stderr",
     "output_type": "stream",
     "text": [
      "converting counts to integer mode\n",
      "\n"
     ]
    },
    {
     "data": {
      "text/plain": [
       "class: DESeqDataSet \n",
       "dim: 38592 6 \n",
       "metadata(1): version\n",
       "assays(1): counts\n",
       "rownames(38592): ENSG00000268674 ENSG00000271254 ... ENSG00000110721\n",
       "  ENSG00000144115\n",
       "rowData names(0):\n",
       "colnames(6): SRR10544951 SRR10544956 ... SRR10544957 SRR10544954\n",
       "colData names(1): condition"
      ]
     },
     "metadata": {},
     "output_type": "display_data"
    }
   ],
   "source": [
    "# Perform DESeq2 analysis\n",
    "dds <- DESeqDataSetFromMatrix(countData = genes_counts,\n",
    "                              colData = metadata_df,\n",
    "                              design = ~ condition)\n",
    "dds"
   ]
  },
  {
   "cell_type": "code",
   "execution_count": 10,
   "metadata": {
    "vscode": {
     "languageId": "r"
    }
   },
   "outputs": [
    {
     "name": "stderr",
     "output_type": "stream",
     "text": [
      "estimating size factors\n",
      "\n",
      "estimating dispersions\n",
      "\n",
      "gene-wise dispersion estimates\n",
      "\n",
      "mean-dispersion relationship\n",
      "\n",
      "final dispersion estimates\n",
      "\n",
      "fitting model and testing\n",
      "\n"
     ]
    },
    {
     "data": {
      "text/plain": [
       "class: DESeqDataSet \n",
       "dim: 38592 6 \n",
       "metadata(1): version\n",
       "assays(4): counts mu H cooks\n",
       "rownames(38592): ENSG00000268674 ENSG00000271254 ... ENSG00000110721\n",
       "  ENSG00000144115\n",
       "rowData names(22): baseMean baseVar ... deviance maxCooks\n",
       "colnames(6): SRR10544951 SRR10544956 ... SRR10544957 SRR10544954\n",
       "colData names(2): condition sizeFactor"
      ]
     },
     "metadata": {},
     "output_type": "display_data"
    }
   ],
   "source": [
    "# Run DESeq2 analysis\n",
    "# This will perform normalization and statistical testing\n",
    "dds <- DESeq(dds)\n",
    "dds"
   ]
  },
  {
   "cell_type": "code",
   "execution_count": 11,
   "metadata": {
    "vscode": {
     "languageId": "r"
    }
   },
   "outputs": [
    {
     "data": {
      "text/plain": [
       "log2 fold change (MLE): condition Experiment vs Control \n",
       "Wald test p-value: condition Experiment vs Control \n",
       "DataFrame with 38592 rows and 6 columns\n",
       "                 baseMean log2FoldChange     lfcSE       stat    pvalue\n",
       "                <numeric>      <numeric> <numeric>  <numeric> <numeric>\n",
       "ENSG00000268674     0.000             NA        NA         NA        NA\n",
       "ENSG00000271254  1150.961      -0.356467  0.286017  -1.246312  0.212650\n",
       "ENSG00000275063     0.000             NA        NA         NA        NA\n",
       "ENSG00000277856     0.000             NA        NA         NA        NA\n",
       "ENSG00000276345   327.275      -1.833333  2.914154  -0.629113  0.529275\n",
       "...                   ...            ...       ...        ...       ...\n",
       "ENSG00000115593     0.000             NA        NA         NA        NA\n",
       "ENSG00000225921  2380.283     -0.0184678  0.200216 -0.0922395  0.926508\n",
       "ENSG00000163586     0.000             NA        NA         NA        NA\n",
       "ENSG00000110721   284.225      0.2485558  0.288361  0.8619611  0.388709\n",
       "ENSG00000144115   145.365     -0.6665757  1.826411 -0.3649647  0.715138\n",
       "                     padj\n",
       "                <numeric>\n",
       "ENSG00000268674        NA\n",
       "ENSG00000271254  0.999991\n",
       "ENSG00000275063        NA\n",
       "ENSG00000277856        NA\n",
       "ENSG00000276345  0.999991\n",
       "...                   ...\n",
       "ENSG00000115593        NA\n",
       "ENSG00000225921  0.999991\n",
       "ENSG00000163586        NA\n",
       "ENSG00000110721  0.999991\n",
       "ENSG00000144115  0.999991"
      ]
     },
     "metadata": {},
     "output_type": "display_data"
    },
    {
     "name": "stdout",
     "output_type": "stream",
     "text": [
      "\n",
      "out of 25184 with nonzero total read count\n",
      "adjusted p-value < 0.05\n",
      "LFC > 0 (up)       : 22, 0.087%\n",
      "LFC < 0 (down)     : 14, 0.056%\n",
      "outliers [1]       : 80, 0.32%\n",
      "low counts [2]     : 5694, 23%\n",
      "(mean count < 2)\n",
      "[1] see 'cooksCutoff' argument of ?results\n",
      "[2] see 'independentFiltering' argument of ?results\n",
      "\n"
     ]
    }
   ],
   "source": [
    "# Set the alpha level for significance\n",
    "alpha <- 0.05\n",
    "\n",
    "# Extract results\n",
    "res <- results(dds, alpha = alpha)\n",
    "res\n",
    "summary(res)"
   ]
  },
  {
   "cell_type": "code",
   "execution_count": 12,
   "metadata": {
    "vscode": {
     "languageId": "r"
    }
   },
   "outputs": [
    {
     "name": "stdout",
     "output_type": "stream",
     "text": [
      "Number of differentially expressed genes (DEGs) padj < 0.05:  36 \n",
      "[1] \"Total number of genes: 38592\"\n",
      "[1] \"Total number of genes with non-NA padj: 19410\"\n"
     ]
    }
   ],
   "source": [
    "# Number of DEGs\n",
    "num_degs <- sum(res$padj < alpha, na.rm = TRUE)\n",
    "cat(\"Number of differentially expressed genes (DEGs) padj < 0.05: \", num_degs, \"\\n\")\n",
    "print(paste(\"Total number of genes:\", nrow(res)))\n",
    "print(paste(\"Total number of genes with non-NA padj:\", sum(!is.na(res$padj))))"
   ]
  },
  {
   "cell_type": "code",
   "execution_count": 13,
   "metadata": {
    "vscode": {
     "languageId": "r"
    }
   },
   "outputs": [
    {
     "data": {
      "text/html": [
       "<table class=\"dataframe\">\n",
       "<caption>A data.frame: 6 × 6</caption>\n",
       "<thead>\n",
       "\t<tr><th></th><th scope=col>baseMean</th><th scope=col>log2FoldChange</th><th scope=col>lfcSE</th><th scope=col>stat</th><th scope=col>pvalue</th><th scope=col>padj</th></tr>\n",
       "\t<tr><th></th><th scope=col>&lt;dbl&gt;</th><th scope=col>&lt;dbl&gt;</th><th scope=col>&lt;dbl&gt;</th><th scope=col>&lt;dbl&gt;</th><th scope=col>&lt;dbl&gt;</th><th scope=col>&lt;dbl&gt;</th></tr>\n",
       "</thead>\n",
       "<tbody>\n",
       "\t<tr><th scope=row>ENSG00000268674</th><td>   0.000</td><td>        NA</td><td>       NA</td><td>        NA</td><td>       NA</td><td>      NA</td></tr>\n",
       "\t<tr><th scope=row>ENSG00000271254</th><td>1150.961</td><td>-0.3564671</td><td>0.2860175</td><td>-1.2463123</td><td>0.2126497</td><td>0.999991</td></tr>\n",
       "\t<tr><th scope=row>ENSG00000275063</th><td>   0.000</td><td>        NA</td><td>       NA</td><td>        NA</td><td>       NA</td><td>      NA</td></tr>\n",
       "\t<tr><th scope=row>ENSG00000277856</th><td>   0.000</td><td>        NA</td><td>       NA</td><td>        NA</td><td>       NA</td><td>      NA</td></tr>\n",
       "\t<tr><th scope=row>ENSG00000276345</th><td> 327.275</td><td>-1.8333329</td><td>2.9141542</td><td>-0.6291132</td><td>0.5292749</td><td>0.999991</td></tr>\n",
       "\t<tr><th scope=row>ENSG00000278633</th><td>   0.000</td><td>        NA</td><td>       NA</td><td>        NA</td><td>       NA</td><td>      NA</td></tr>\n",
       "</tbody>\n",
       "</table>\n"
      ],
      "text/latex": [
       "A data.frame: 6 × 6\n",
       "\\begin{tabular}{r|llllll}\n",
       "  & baseMean & log2FoldChange & lfcSE & stat & pvalue & padj\\\\\n",
       "  & <dbl> & <dbl> & <dbl> & <dbl> & <dbl> & <dbl>\\\\\n",
       "\\hline\n",
       "\tENSG00000268674 &    0.000 &         NA &        NA &         NA &        NA &       NA\\\\\n",
       "\tENSG00000271254 & 1150.961 & -0.3564671 & 0.2860175 & -1.2463123 & 0.2126497 & 0.999991\\\\\n",
       "\tENSG00000275063 &    0.000 &         NA &        NA &         NA &        NA &       NA\\\\\n",
       "\tENSG00000277856 &    0.000 &         NA &        NA &         NA &        NA &       NA\\\\\n",
       "\tENSG00000276345 &  327.275 & -1.8333329 & 2.9141542 & -0.6291132 & 0.5292749 & 0.999991\\\\\n",
       "\tENSG00000278633 &    0.000 &         NA &        NA &         NA &        NA &       NA\\\\\n",
       "\\end{tabular}\n"
      ],
      "text/markdown": [
       "\n",
       "A data.frame: 6 × 6\n",
       "\n",
       "| <!--/--> | baseMean &lt;dbl&gt; | log2FoldChange &lt;dbl&gt; | lfcSE &lt;dbl&gt; | stat &lt;dbl&gt; | pvalue &lt;dbl&gt; | padj &lt;dbl&gt; |\n",
       "|---|---|---|---|---|---|---|\n",
       "| ENSG00000268674 |    0.000 |         NA |        NA |         NA |        NA |       NA |\n",
       "| ENSG00000271254 | 1150.961 | -0.3564671 | 0.2860175 | -1.2463123 | 0.2126497 | 0.999991 |\n",
       "| ENSG00000275063 |    0.000 |         NA |        NA |         NA |        NA |       NA |\n",
       "| ENSG00000277856 |    0.000 |         NA |        NA |         NA |        NA |       NA |\n",
       "| ENSG00000276345 |  327.275 | -1.8333329 | 2.9141542 | -0.6291132 | 0.5292749 | 0.999991 |\n",
       "| ENSG00000278633 |    0.000 |         NA |        NA |         NA |        NA |       NA |\n",
       "\n"
      ],
      "text/plain": [
       "                baseMean log2FoldChange lfcSE     stat       pvalue    padj    \n",
       "ENSG00000268674    0.000         NA            NA         NA        NA       NA\n",
       "ENSG00000271254 1150.961 -0.3564671     0.2860175 -1.2463123 0.2126497 0.999991\n",
       "ENSG00000275063    0.000         NA            NA         NA        NA       NA\n",
       "ENSG00000277856    0.000         NA            NA         NA        NA       NA\n",
       "ENSG00000276345  327.275 -1.8333329     2.9141542 -0.6291132 0.5292749 0.999991\n",
       "ENSG00000278633    0.000         NA            NA         NA        NA       NA"
      ]
     },
     "metadata": {},
     "output_type": "display_data"
    }
   ],
   "source": [
    "# Make a dataframe of results\n",
    "res_df <- as.data.frame(res)\n",
    "\n",
    "head(res_df)"
   ]
  },
  {
   "cell_type": "code",
   "execution_count": 14,
   "metadata": {
    "vscode": {
     "languageId": "r"
    }
   },
   "outputs": [
    {
     "data": {
      "text/html": [
       "<table class=\"dataframe\">\n",
       "<caption>A data.frame: 6 × 2</caption>\n",
       "<thead>\n",
       "\t<tr><th></th><th scope=col>ensembl_gene_id</th><th scope=col>external_gene_name</th></tr>\n",
       "\t<tr><th></th><th scope=col>&lt;chr&gt;</th><th scope=col>&lt;chr&gt;</th></tr>\n",
       "</thead>\n",
       "<tbody>\n",
       "\t<tr><th scope=row>1</th><td>ENSG00000001036</td><td>FUCA2 </td></tr>\n",
       "\t<tr><th scope=row>2</th><td>ENSG00000001084</td><td>GCLC  </td></tr>\n",
       "\t<tr><th scope=row>3</th><td>ENSG00000001167</td><td>NFYA  </td></tr>\n",
       "\t<tr><th scope=row>4</th><td>ENSG00000001561</td><td>ENPP4 </td></tr>\n",
       "\t<tr><th scope=row>5</th><td>ENSG00000001629</td><td>ANKIB1</td></tr>\n",
       "\t<tr><th scope=row>6</th><td>ENSG00000001631</td><td>KRIT1 </td></tr>\n",
       "</tbody>\n",
       "</table>\n"
      ],
      "text/latex": [
       "A data.frame: 6 × 2\n",
       "\\begin{tabular}{r|ll}\n",
       "  & ensembl\\_gene\\_id & external\\_gene\\_name\\\\\n",
       "  & <chr> & <chr>\\\\\n",
       "\\hline\n",
       "\t1 & ENSG00000001036 & FUCA2 \\\\\n",
       "\t2 & ENSG00000001084 & GCLC  \\\\\n",
       "\t3 & ENSG00000001167 & NFYA  \\\\\n",
       "\t4 & ENSG00000001561 & ENPP4 \\\\\n",
       "\t5 & ENSG00000001629 & ANKIB1\\\\\n",
       "\t6 & ENSG00000001631 & KRIT1 \\\\\n",
       "\\end{tabular}\n"
      ],
      "text/markdown": [
       "\n",
       "A data.frame: 6 × 2\n",
       "\n",
       "| <!--/--> | ensembl_gene_id &lt;chr&gt; | external_gene_name &lt;chr&gt; |\n",
       "|---|---|---|\n",
       "| 1 | ENSG00000001036 | FUCA2  |\n",
       "| 2 | ENSG00000001084 | GCLC   |\n",
       "| 3 | ENSG00000001167 | NFYA   |\n",
       "| 4 | ENSG00000001561 | ENPP4  |\n",
       "| 5 | ENSG00000001629 | ANKIB1 |\n",
       "| 6 | ENSG00000001631 | KRIT1  |\n",
       "\n"
      ],
      "text/plain": [
       "  ensembl_gene_id external_gene_name\n",
       "1 ENSG00000001036 FUCA2             \n",
       "2 ENSG00000001084 GCLC              \n",
       "3 ENSG00000001167 NFYA              \n",
       "4 ENSG00000001561 ENPP4             \n",
       "5 ENSG00000001629 ANKIB1            \n",
       "6 ENSG00000001631 KRIT1             "
      ]
     },
     "metadata": {},
     "output_type": "display_data"
    },
    {
     "data": {
      "text/html": [
       "37471"
      ],
      "text/latex": [
       "37471"
      ],
      "text/markdown": [
       "37471"
      ],
      "text/plain": [
       "[1] 37471"
      ]
     },
     "metadata": {},
     "output_type": "display_data"
    }
   ],
   "source": [
    "# Replace Ensembl IDs gene names with gene symbols with biomaRt\n",
    "mart <- useMart(\"ensembl\", dataset = \"hsapiens_gene_ensembl\")\n",
    "gene_symbols <- getBM(attributes = c(\"ensembl_gene_id\", \"external_gene_name\"),\n",
    "                      filters = \"ensembl_gene_id\",\n",
    "                      values = rownames(res_df),\n",
    "                      mart = mart)\n",
    "head(gene_symbols)\n",
    "nrow(gene_symbols)"
   ]
  },
  {
   "cell_type": "code",
   "execution_count": 15,
   "metadata": {
    "vscode": {
     "languageId": "r"
    }
   },
   "outputs": [],
   "source": [
    "# Merge gene symbols with results\n",
    "res_df <- res_df %>%\n",
    "    rownames_to_column(var = \"ensembl_gene_id\") %>%\n",
    "    left_join(gene_symbols, by = \"ensembl_gene_id\") %>%\n",
    "    # Some gene symbols may be empty, so use ensembl_gene_id as fallback\n",
    "    mutate(gene_symbol = ifelse(is.na(external_gene_name) | external_gene_name == \"\", ensembl_gene_id, external_gene_name)) %>%\n",
    "    # Set rownames to ensembl_gene_id again\n",
    "    column_to_rownames(var = \"ensembl_gene_id\")\n",
    "\n",
    "# For some reason column'external_gene_name' cannot be accessed directly,\n",
    "# need to remove it at column 7\n",
    "res_df <- res_df[, -7]"
   ]
  },
  {
   "cell_type": "code",
   "execution_count": 16,
   "metadata": {
    "vscode": {
     "languageId": "r"
    }
   },
   "outputs": [
    {
     "data": {
      "text/html": [
       "<table class=\"dataframe\">\n",
       "<caption>A data.frame: 6 × 7</caption>\n",
       "<thead>\n",
       "\t<tr><th></th><th scope=col>baseMean</th><th scope=col>log2FoldChange</th><th scope=col>lfcSE</th><th scope=col>stat</th><th scope=col>pvalue</th><th scope=col>padj</th><th scope=col>gene_symbol</th></tr>\n",
       "\t<tr><th></th><th scope=col>&lt;dbl&gt;</th><th scope=col>&lt;dbl&gt;</th><th scope=col>&lt;dbl&gt;</th><th scope=col>&lt;dbl&gt;</th><th scope=col>&lt;dbl&gt;</th><th scope=col>&lt;dbl&gt;</th><th scope=col>&lt;chr&gt;</th></tr>\n",
       "</thead>\n",
       "<tbody>\n",
       "\t<tr><th scope=row>ENSG00000268674</th><td>   0.000</td><td>        NA</td><td>       NA</td><td>        NA</td><td>       NA</td><td>      NA</td><td>ENSG00000268674</td></tr>\n",
       "\t<tr><th scope=row>ENSG00000271254</th><td>1150.961</td><td>-0.3564671</td><td>0.2860175</td><td>-1.2463123</td><td>0.2126497</td><td>0.999991</td><td>ENSG00000271254</td></tr>\n",
       "\t<tr><th scope=row>ENSG00000275063</th><td>   0.000</td><td>        NA</td><td>       NA</td><td>        NA</td><td>       NA</td><td>      NA</td><td>ENSG00000275063</td></tr>\n",
       "\t<tr><th scope=row>ENSG00000277856</th><td>   0.000</td><td>        NA</td><td>       NA</td><td>        NA</td><td>       NA</td><td>      NA</td><td>ENSG00000277856</td></tr>\n",
       "\t<tr><th scope=row>ENSG00000276345</th><td> 327.275</td><td>-1.8333329</td><td>2.9141542</td><td>-0.6291132</td><td>0.5292749</td><td>0.999991</td><td>ENSG00000276345</td></tr>\n",
       "\t<tr><th scope=row>ENSG00000278633</th><td>   0.000</td><td>        NA</td><td>       NA</td><td>        NA</td><td>       NA</td><td>      NA</td><td>ENSG00000278633</td></tr>\n",
       "</tbody>\n",
       "</table>\n"
      ],
      "text/latex": [
       "A data.frame: 6 × 7\n",
       "\\begin{tabular}{r|lllllll}\n",
       "  & baseMean & log2FoldChange & lfcSE & stat & pvalue & padj & gene\\_symbol\\\\\n",
       "  & <dbl> & <dbl> & <dbl> & <dbl> & <dbl> & <dbl> & <chr>\\\\\n",
       "\\hline\n",
       "\tENSG00000268674 &    0.000 &         NA &        NA &         NA &        NA &       NA & ENSG00000268674\\\\\n",
       "\tENSG00000271254 & 1150.961 & -0.3564671 & 0.2860175 & -1.2463123 & 0.2126497 & 0.999991 & ENSG00000271254\\\\\n",
       "\tENSG00000275063 &    0.000 &         NA &        NA &         NA &        NA &       NA & ENSG00000275063\\\\\n",
       "\tENSG00000277856 &    0.000 &         NA &        NA &         NA &        NA &       NA & ENSG00000277856\\\\\n",
       "\tENSG00000276345 &  327.275 & -1.8333329 & 2.9141542 & -0.6291132 & 0.5292749 & 0.999991 & ENSG00000276345\\\\\n",
       "\tENSG00000278633 &    0.000 &         NA &        NA &         NA &        NA &       NA & ENSG00000278633\\\\\n",
       "\\end{tabular}\n"
      ],
      "text/markdown": [
       "\n",
       "A data.frame: 6 × 7\n",
       "\n",
       "| <!--/--> | baseMean &lt;dbl&gt; | log2FoldChange &lt;dbl&gt; | lfcSE &lt;dbl&gt; | stat &lt;dbl&gt; | pvalue &lt;dbl&gt; | padj &lt;dbl&gt; | gene_symbol &lt;chr&gt; |\n",
       "|---|---|---|---|---|---|---|---|\n",
       "| ENSG00000268674 |    0.000 |         NA |        NA |         NA |        NA |       NA | ENSG00000268674 |\n",
       "| ENSG00000271254 | 1150.961 | -0.3564671 | 0.2860175 | -1.2463123 | 0.2126497 | 0.999991 | ENSG00000271254 |\n",
       "| ENSG00000275063 |    0.000 |         NA |        NA |         NA |        NA |       NA | ENSG00000275063 |\n",
       "| ENSG00000277856 |    0.000 |         NA |        NA |         NA |        NA |       NA | ENSG00000277856 |\n",
       "| ENSG00000276345 |  327.275 | -1.8333329 | 2.9141542 | -0.6291132 | 0.5292749 | 0.999991 | ENSG00000276345 |\n",
       "| ENSG00000278633 |    0.000 |         NA |        NA |         NA |        NA |       NA | ENSG00000278633 |\n",
       "\n"
      ],
      "text/plain": [
       "                baseMean log2FoldChange lfcSE     stat       pvalue    padj    \n",
       "ENSG00000268674    0.000         NA            NA         NA        NA       NA\n",
       "ENSG00000271254 1150.961 -0.3564671     0.2860175 -1.2463123 0.2126497 0.999991\n",
       "ENSG00000275063    0.000         NA            NA         NA        NA       NA\n",
       "ENSG00000277856    0.000         NA            NA         NA        NA       NA\n",
       "ENSG00000276345  327.275 -1.8333329     2.9141542 -0.6291132 0.5292749 0.999991\n",
       "ENSG00000278633    0.000         NA            NA         NA        NA       NA\n",
       "                gene_symbol    \n",
       "ENSG00000268674 ENSG00000268674\n",
       "ENSG00000271254 ENSG00000271254\n",
       "ENSG00000275063 ENSG00000275063\n",
       "ENSG00000277856 ENSG00000277856\n",
       "ENSG00000276345 ENSG00000276345\n",
       "ENSG00000278633 ENSG00000278633"
      ]
     },
     "metadata": {},
     "output_type": "display_data"
    }
   ],
   "source": [
    "head(res_df)"
   ]
  },
  {
   "cell_type": "code",
   "execution_count": 17,
   "metadata": {},
   "outputs": [
    {
     "data": {
      "text/html": [
       "<table class=\"dataframe\">\n",
       "<caption>A data.frame: 6 × 8</caption>\n",
       "<thead>\n",
       "\t<tr><th></th><th scope=col>Ensembl_IDs</th><th scope=col>gene_symbol</th><th scope=col>baseMean</th><th scope=col>log2FoldChange</th><th scope=col>lfcSE</th><th scope=col>stat</th><th scope=col>pvalue</th><th scope=col>padj</th></tr>\n",
       "\t<tr><th></th><th scope=col>&lt;chr&gt;</th><th scope=col>&lt;chr&gt;</th><th scope=col>&lt;dbl&gt;</th><th scope=col>&lt;dbl&gt;</th><th scope=col>&lt;dbl&gt;</th><th scope=col>&lt;dbl&gt;</th><th scope=col>&lt;dbl&gt;</th><th scope=col>&lt;dbl&gt;</th></tr>\n",
       "</thead>\n",
       "<tbody>\n",
       "\t<tr><th scope=row>1</th><td>ENSG00000268674</td><td>ENSG00000268674</td><td>   0.000</td><td>        NA</td><td>       NA</td><td>        NA</td><td>       NA</td><td>      NA</td></tr>\n",
       "\t<tr><th scope=row>2</th><td>ENSG00000271254</td><td>ENSG00000271254</td><td>1150.961</td><td>-0.3564671</td><td>0.2860175</td><td>-1.2463123</td><td>0.2126497</td><td>0.999991</td></tr>\n",
       "\t<tr><th scope=row>3</th><td>ENSG00000275063</td><td>ENSG00000275063</td><td>   0.000</td><td>        NA</td><td>       NA</td><td>        NA</td><td>       NA</td><td>      NA</td></tr>\n",
       "\t<tr><th scope=row>4</th><td>ENSG00000277856</td><td>ENSG00000277856</td><td>   0.000</td><td>        NA</td><td>       NA</td><td>        NA</td><td>       NA</td><td>      NA</td></tr>\n",
       "\t<tr><th scope=row>5</th><td>ENSG00000276345</td><td>ENSG00000276345</td><td> 327.275</td><td>-1.8333329</td><td>2.9141542</td><td>-0.6291132</td><td>0.5292749</td><td>0.999991</td></tr>\n",
       "\t<tr><th scope=row>6</th><td>ENSG00000278633</td><td>ENSG00000278633</td><td>   0.000</td><td>        NA</td><td>       NA</td><td>        NA</td><td>       NA</td><td>      NA</td></tr>\n",
       "</tbody>\n",
       "</table>\n"
      ],
      "text/latex": [
       "A data.frame: 6 × 8\n",
       "\\begin{tabular}{r|llllllll}\n",
       "  & Ensembl\\_IDs & gene\\_symbol & baseMean & log2FoldChange & lfcSE & stat & pvalue & padj\\\\\n",
       "  & <chr> & <chr> & <dbl> & <dbl> & <dbl> & <dbl> & <dbl> & <dbl>\\\\\n",
       "\\hline\n",
       "\t1 & ENSG00000268674 & ENSG00000268674 &    0.000 &         NA &        NA &         NA &        NA &       NA\\\\\n",
       "\t2 & ENSG00000271254 & ENSG00000271254 & 1150.961 & -0.3564671 & 0.2860175 & -1.2463123 & 0.2126497 & 0.999991\\\\\n",
       "\t3 & ENSG00000275063 & ENSG00000275063 &    0.000 &         NA &        NA &         NA &        NA &       NA\\\\\n",
       "\t4 & ENSG00000277856 & ENSG00000277856 &    0.000 &         NA &        NA &         NA &        NA &       NA\\\\\n",
       "\t5 & ENSG00000276345 & ENSG00000276345 &  327.275 & -1.8333329 & 2.9141542 & -0.6291132 & 0.5292749 & 0.999991\\\\\n",
       "\t6 & ENSG00000278633 & ENSG00000278633 &    0.000 &         NA &        NA &         NA &        NA &       NA\\\\\n",
       "\\end{tabular}\n"
      ],
      "text/markdown": [
       "\n",
       "A data.frame: 6 × 8\n",
       "\n",
       "| <!--/--> | Ensembl_IDs &lt;chr&gt; | gene_symbol &lt;chr&gt; | baseMean &lt;dbl&gt; | log2FoldChange &lt;dbl&gt; | lfcSE &lt;dbl&gt; | stat &lt;dbl&gt; | pvalue &lt;dbl&gt; | padj &lt;dbl&gt; |\n",
       "|---|---|---|---|---|---|---|---|---|\n",
       "| 1 | ENSG00000268674 | ENSG00000268674 |    0.000 |         NA |        NA |         NA |        NA |       NA |\n",
       "| 2 | ENSG00000271254 | ENSG00000271254 | 1150.961 | -0.3564671 | 0.2860175 | -1.2463123 | 0.2126497 | 0.999991 |\n",
       "| 3 | ENSG00000275063 | ENSG00000275063 |    0.000 |         NA |        NA |         NA |        NA |       NA |\n",
       "| 4 | ENSG00000277856 | ENSG00000277856 |    0.000 |         NA |        NA |         NA |        NA |       NA |\n",
       "| 5 | ENSG00000276345 | ENSG00000276345 |  327.275 | -1.8333329 | 2.9141542 | -0.6291132 | 0.5292749 | 0.999991 |\n",
       "| 6 | ENSG00000278633 | ENSG00000278633 |    0.000 |         NA |        NA |         NA |        NA |       NA |\n",
       "\n"
      ],
      "text/plain": [
       "  Ensembl_IDs     gene_symbol     baseMean log2FoldChange lfcSE     stat      \n",
       "1 ENSG00000268674 ENSG00000268674    0.000         NA            NA         NA\n",
       "2 ENSG00000271254 ENSG00000271254 1150.961 -0.3564671     0.2860175 -1.2463123\n",
       "3 ENSG00000275063 ENSG00000275063    0.000         NA            NA         NA\n",
       "4 ENSG00000277856 ENSG00000277856    0.000         NA            NA         NA\n",
       "5 ENSG00000276345 ENSG00000276345  327.275 -1.8333329     2.9141542 -0.6291132\n",
       "6 ENSG00000278633 ENSG00000278633    0.000         NA            NA         NA\n",
       "  pvalue    padj    \n",
       "1        NA       NA\n",
       "2 0.2126497 0.999991\n",
       "3        NA       NA\n",
       "4        NA       NA\n",
       "5 0.5292749 0.999991\n",
       "6        NA       NA"
      ]
     },
     "metadata": {},
     "output_type": "display_data"
    }
   ],
   "source": [
    "# Modify res_df to convert row names to a column (Ensomble_IDs), and column gene_symbol be the second column\n",
    "res_df_csv <- res_df %>%\n",
    "    rownames_to_column(var = \"Ensembl_IDs\") %>%\n",
    "    dplyr::select(Ensembl_IDs, gene_symbol, everything())\n",
    "\n",
    "head(res_df_csv)\n",
    "\n",
    "# Write results to CSV\n",
    "write_csv(res_df_csv, paste0(counts_dir, \"/DESeq2_results.csv\"))"
   ]
  },
  {
   "cell_type": "markdown",
   "metadata": {},
   "source": [
    "## Analysis & Visualization"
   ]
  },
  {
   "cell_type": "code",
   "execution_count": 18,
   "metadata": {
    "vscode": {
     "languageId": "r"
    }
   },
   "outputs": [
    {
     "data": {
      "text/html": [
       "<strong>agg_record_297481778:</strong> 2"
      ],
      "text/latex": [
       "\\textbf{agg\\textbackslash{}\\_record\\textbackslash{}\\_297481778:} 2"
      ],
      "text/markdown": [
       "**agg_record_297481778:** 2"
      ],
      "text/plain": [
       "agg_record_297481778 \n",
       "                   2 "
      ]
     },
     "metadata": {},
     "output_type": "display_data"
    },
    {
     "data": {
      "image/png": "[encoded data removed]",
      "text/plain": [
       "plot without title"
      ]
     },
     "metadata": {
      "image/png": {
       "height": 420,
       "width": 420
      }
     },
     "output_type": "display_data"
    }
   ],
   "source": [
    "### Create a volcano plot using EnhancedVolcano\n",
    "\n",
    "# Save plot as PNG file\n",
    "png(paste0(counts_dir, \"/volcano_plot.png\"), width = 800, height = 600)\n",
    "\n",
    "# Change the f-cutoff value here (default is 2)\n",
    "f_cutoff <- 2\n",
    "\n",
    "volcano <- EnhancedVolcano(res_df,\n",
    "                            lab = res_df$gene_symbol,\n",
    "                            x = 'log2FoldChange',\n",
    "                            y = 'padj',\n",
    "                            pCutoff = alpha,\n",
    "                            # FCcutoff = 1,\n",
    "                            title = \"Volcano Plot of DEGs (padj)\",\n",
    "                            subtitle = paste(\"Total DEGs:\", num_degs))\n",
    "                            # pointSize = 3.0,\n",
    "                            # labSize = 3.0,\n",
    "                            # drawConnectors = TRUE,\n",
    "                            # widthConnectors = 0.5,\n",
    "                            # colAlpha = 0.5,\n",
    "                            # legendPosition = \"right\",\n",
    "                            # legendLabSize = 10,\n",
    "                            # legendIconSize = 3.0)\n",
    "volcano\n",
    "dev.off()\n",
    "\n",
    "# Display plot on notebook\n",
    "volcano"
   ]
  },
  {
   "cell_type": "code",
   "execution_count": 19,
   "metadata": {
    "vscode": {
     "languageId": "r"
    }
   },
   "outputs": [
    {
     "data": {
      "text/html": [
       "<table class=\"dataframe\">\n",
       "<caption>A data.frame: 6 × 7</caption>\n",
       "<thead>\n",
       "\t<tr><th></th><th scope=col>baseMean</th><th scope=col>log2FoldChange</th><th scope=col>lfcSE</th><th scope=col>stat</th><th scope=col>pvalue</th><th scope=col>padj</th><th scope=col>gene_symbol</th></tr>\n",
       "\t<tr><th></th><th scope=col>&lt;dbl&gt;</th><th scope=col>&lt;dbl&gt;</th><th scope=col>&lt;dbl&gt;</th><th scope=col>&lt;dbl&gt;</th><th scope=col>&lt;dbl&gt;</th><th scope=col>&lt;dbl&gt;</th><th scope=col>&lt;chr&gt;</th></tr>\n",
       "</thead>\n",
       "<tbody>\n",
       "\t<tr><th scope=row>ENSG00000189056</th><td>  1146.9298</td><td> 4.452844</td><td>0.6883995</td><td> 6.468402</td><td>9.904499e-11</td><td>1.922463e-06</td><td>RELN  </td></tr>\n",
       "\t<tr><th scope=row>ENSG00000133169</th><td>   153.0906</td><td> 3.235236</td><td>0.5223656</td><td> 6.193432</td><td>5.886800e-10</td><td>5.713139e-06</td><td>BEX1  </td></tr>\n",
       "\t<tr><th scope=row>ENSG00000102755</th><td>   292.1867</td><td> 1.858974</td><td>0.3086268</td><td> 6.023373</td><td>1.708195e-09</td><td>1.045633e-05</td><td>FLT1  </td></tr>\n",
       "\t<tr><th scope=row>ENSG00000133110</th><td>107318.3049</td><td> 1.552898</td><td>0.2594353</td><td> 5.985683</td><td>2.154833e-09</td><td>1.045633e-05</td><td>POSTN </td></tr>\n",
       "\t<tr><th scope=row>ENSG00000154856</th><td>   570.8962</td><td>-2.024830</td><td>0.3446452</td><td>-5.875115</td><td>4.225504e-09</td><td>1.640341e-05</td><td>APCDD1</td></tr>\n",
       "\t<tr><th scope=row>ENSG00000165617</th><td>  2075.2490</td><td> 1.380628</td><td>0.2645184</td><td> 5.219404</td><td>1.795001e-07</td><td>5.806830e-04</td><td>DACT1 </td></tr>\n",
       "</tbody>\n",
       "</table>\n"
      ],
      "text/latex": [
       "A data.frame: 6 × 7\n",
       "\\begin{tabular}{r|lllllll}\n",
       "  & baseMean & log2FoldChange & lfcSE & stat & pvalue & padj & gene\\_symbol\\\\\n",
       "  & <dbl> & <dbl> & <dbl> & <dbl> & <dbl> & <dbl> & <chr>\\\\\n",
       "\\hline\n",
       "\tENSG00000189056 &   1146.9298 &  4.452844 & 0.6883995 &  6.468402 & 9.904499e-11 & 1.922463e-06 & RELN  \\\\\n",
       "\tENSG00000133169 &    153.0906 &  3.235236 & 0.5223656 &  6.193432 & 5.886800e-10 & 5.713139e-06 & BEX1  \\\\\n",
       "\tENSG00000102755 &    292.1867 &  1.858974 & 0.3086268 &  6.023373 & 1.708195e-09 & 1.045633e-05 & FLT1  \\\\\n",
       "\tENSG00000133110 & 107318.3049 &  1.552898 & 0.2594353 &  5.985683 & 2.154833e-09 & 1.045633e-05 & POSTN \\\\\n",
       "\tENSG00000154856 &    570.8962 & -2.024830 & 0.3446452 & -5.875115 & 4.225504e-09 & 1.640341e-05 & APCDD1\\\\\n",
       "\tENSG00000165617 &   2075.2490 &  1.380628 & 0.2645184 &  5.219404 & 1.795001e-07 & 5.806830e-04 & DACT1 \\\\\n",
       "\\end{tabular}\n"
      ],
      "text/markdown": [
       "\n",
       "A data.frame: 6 × 7\n",
       "\n",
       "| <!--/--> | baseMean &lt;dbl&gt; | log2FoldChange &lt;dbl&gt; | lfcSE &lt;dbl&gt; | stat &lt;dbl&gt; | pvalue &lt;dbl&gt; | padj &lt;dbl&gt; | gene_symbol &lt;chr&gt; |\n",
       "|---|---|---|---|---|---|---|---|\n",
       "| ENSG00000189056 |   1146.9298 |  4.452844 | 0.6883995 |  6.468402 | 9.904499e-11 | 1.922463e-06 | RELN   |\n",
       "| ENSG00000133169 |    153.0906 |  3.235236 | 0.5223656 |  6.193432 | 5.886800e-10 | 5.713139e-06 | BEX1   |\n",
       "| ENSG00000102755 |    292.1867 |  1.858974 | 0.3086268 |  6.023373 | 1.708195e-09 | 1.045633e-05 | FLT1   |\n",
       "| ENSG00000133110 | 107318.3049 |  1.552898 | 0.2594353 |  5.985683 | 2.154833e-09 | 1.045633e-05 | POSTN  |\n",
       "| ENSG00000154856 |    570.8962 | -2.024830 | 0.3446452 | -5.875115 | 4.225504e-09 | 1.640341e-05 | APCDD1 |\n",
       "| ENSG00000165617 |   2075.2490 |  1.380628 | 0.2645184 |  5.219404 | 1.795001e-07 | 5.806830e-04 | DACT1  |\n",
       "\n"
      ],
      "text/plain": [
       "                baseMean    log2FoldChange lfcSE     stat      pvalue      \n",
       "ENSG00000189056   1146.9298  4.452844      0.6883995  6.468402 9.904499e-11\n",
       "ENSG00000133169    153.0906  3.235236      0.5223656  6.193432 5.886800e-10\n",
       "ENSG00000102755    292.1867  1.858974      0.3086268  6.023373 1.708195e-09\n",
       "ENSG00000133110 107318.3049  1.552898      0.2594353  5.985683 2.154833e-09\n",
       "ENSG00000154856    570.8962 -2.024830      0.3446452 -5.875115 4.225504e-09\n",
       "ENSG00000165617   2075.2490  1.380628      0.2645184  5.219404 1.795001e-07\n",
       "                padj         gene_symbol\n",
       "ENSG00000189056 1.922463e-06 RELN       \n",
       "ENSG00000133169 5.713139e-06 BEX1       \n",
       "ENSG00000102755 1.045633e-05 FLT1       \n",
       "ENSG00000133110 1.045633e-05 POSTN      \n",
       "ENSG00000154856 1.640341e-05 APCDD1     \n",
       "ENSG00000165617 5.806830e-04 DACT1      "
      ]
     },
     "metadata": {},
     "output_type": "display_data"
    }
   ],
   "source": [
    "# Select top 20 DEGs based on padj\n",
    "top_degs <- res_df %>%\n",
    "    filter(!is.na(padj) & padj < alpha) %>%\n",
    "    arrange(padj) %>%\n",
    "    head(20)  # Change this number to select more/less DEGs\n",
    "head(top_degs)"
   ]
  },
  {
   "cell_type": "code",
   "execution_count": 20,
   "metadata": {
    "vscode": {
     "languageId": "r"
    }
   },
   "outputs": [
    {
     "data": {
      "text/html": [
       "<strong>agg_record_493606339:</strong> 2"
      ],
      "text/latex": [
       "\\textbf{agg\\textbackslash{}\\_record\\textbackslash{}\\_493606339:} 2"
      ],
      "text/markdown": [
       "**agg_record_493606339:** 2"
      ],
      "text/plain": [
       "agg_record_493606339 \n",
       "                   2 "
      ]
     },
     "metadata": {},
     "output_type": "display_data"
    },
    {
     "data": {
      "image/png": "[encoded data removed]",
      "text/plain": [
       "Plot with title “Color Key\n",
       "and Histogram”"
      ]
     },
     "metadata": {
      "image/png": {
       "height": 420,
       "width": 420
      }
     },
     "output_type": "display_data"
    }
   ],
   "source": [
    "### Create a heatmap of the top DEGs\n",
    "\n",
    "# Save plot as PNG file\n",
    "png(paste0(counts_dir, \"/heatmap.png\"), width = 600, height = 800)\n",
    "\n",
    "heatmap.2(as.matrix(genes_counts[rownames(genes_counts) %in% rownames(top_degs), ]),\n",
    "            scale = \"row\",\n",
    "            main = \"Heatmap of Top DEGs\",\n",
    "            labRow = top_degs$gene_symbol,\n",
    "            labCol = rownames(metadata_df),\n",
    "            margins = c(10, 10),\n",
    "            col = bluered(100))\n",
    "\n",
    "dev.off()\n",
    "\n",
    "# Display heatmap on notebook\n",
    "heatmap.2(as.matrix(genes_counts[rownames(genes_counts) %in% rownames(top_degs), ]),\n",
    "            scale = \"row\",\n",
    "            main = \"Heatmap of Top DEGs\",\n",
    "            labRow = top_degs$gene_symbol,\n",
    "            labCol = rownames(metadata_df),\n",
    "            margins = c(10, 10),\n",
    "            col = bluered(100))"
   ]
  },
  {
   "cell_type": "code",
   "execution_count": null,
   "metadata": {
    "vscode": {
     "languageId": "r"
    }
   },
   "outputs": [],
   "source": []
  }
 ],
 "metadata": {
  "kernelspec": {
   "display_name": "R",
   "language": "R",
   "name": "ir"
  },
  "language_info": {
   "codemirror_mode": "r",
   "file_extension": ".r",
   "mimetype": "text/x-r-source",
   "name": "R",
   "pygments_lexer": "r",
   "version": "4.4.3"
  }
 },
 "nbformat": 4,
 "nbformat_minor": 4
}
